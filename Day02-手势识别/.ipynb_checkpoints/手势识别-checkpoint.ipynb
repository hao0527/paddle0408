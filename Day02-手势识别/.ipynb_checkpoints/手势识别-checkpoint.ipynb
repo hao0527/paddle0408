{
 "cells": [
  {
   "cell_type": "code",
   "execution_count": 11,
   "metadata": {},
   "outputs": [],
   "source": [
    "import os\n",
    "import time\n",
    "import random\n",
    "import numpy as np\n",
    "from PIL import Image\n",
    "import matplotlib.pyplot as plt\n",
    "import paddle\n",
    "import paddle.fluid as fluid\n",
    "import paddle.fluid.layers as layers\n",
    "from multiprocessing import cpu_count\n",
    "from paddle.fluid.dygraph import Pool2D,Conv2D\n",
    "from paddle.fluid.dygraph import Linear"
   ]
  },
  {
   "cell_type": "code",
   "execution_count": 12,
   "metadata": {},
   "outputs": [
    {
     "name": "stdout",
     "output_type": "stream",
     "text": [
      "列表已生成\n"
     ]
    }
   ],
   "source": [
    "\n",
    "# 生成图像列表\n",
    "data_path = './data/data23668/Dataset'\n",
    "character_folders = os.listdir(data_path)\n",
    "# print(character_folders)\n",
    "if(os.path.exists('./train_data.list')):\n",
    "    os.remove('./train_data.list')\n",
    "if(os.path.exists('./test_data.list')):\n",
    "    os.remove('./test_data.list')\n",
    "    \n",
    "for character_folder in character_folders:\n",
    "    \n",
    "    with open('./train_data.list', 'a') as f_train:\n",
    "        with open('./test_data.list', 'a') as f_test:\n",
    "            if character_folder == '.DS_Store':\n",
    "                continue\n",
    "            character_imgs = os.listdir(os.path.join(data_path,character_folder))\n",
    "            count = 0 \n",
    "            for img in character_imgs:\n",
    "                if img =='.DS_Store':\n",
    "                    continue\n",
    "                if count%10 == 0:\n",
    "                    f_test.write(os.path.join(data_path,character_folder,img) + '\\t' + character_folder + '\\n')\n",
    "                else:\n",
    "                    f_train.write(os.path.join(data_path,character_folder,img) + '\\t' + character_folder + '\\n')\n",
    "                count +=1\n",
    "print('列表已生成')\n"
   ]
  },
  {
   "cell_type": "code",
   "execution_count": 13,
   "metadata": {},
   "outputs": [],
   "source": [
    "# 定义训练集和测试集的reader\n",
    "def data_mapper(sample):\n",
    "    img, label = sample\n",
    "    img = Image.open(img)\n",
    "    img = img.resize((100, 100), Image.ANTIALIAS)#(width, height),Image.ANTIALIAS：高质量\n",
    "    img = np.array(img).astype('float32')\n",
    "    img = img.transpose((2, 0, 1))#转置把rgb,rgb,rgb...,转成rrr...,ggg...,bbb...\n",
    "    img = img/255.0 #归一化\n",
    "    return img, label\n",
    "\n",
    "def data_reader(data_list_path):#数据处理预处理\n",
    "    def reader():\n",
    "        with open(data_list_path, 'r') as f:\n",
    "            lines = f.readlines()\n",
    "            for line in lines:\n",
    "                img, label = line.split('\\t')\n",
    "                yield img, int(label)\n",
    "    return paddle.reader.xmap_readers(data_mapper, reader, cpu_count(), 512)\n",
    " "
   ]
  },
  {
   "cell_type": "code",
   "execution_count": 18,
   "metadata": {},
   "outputs": [],
   "source": [
    "# 用于训练的数据提供器\n",
    "train_reader = paddle.batch(reader=paddle.reader.shuffle(reader=data_reader('./train_data.list'), buf_size=256), batch_size=32)\n",
    "# 用于测试的数据提供器\n",
    "test_reader = paddle.batch(reader=data_reader('./test_data.list'), batch_size=16) "
   ]
  },
  {
   "cell_type": "code",
   "execution_count": 19,
   "metadata": {},
   "outputs": [],
   "source": [
    "#定义DNN网络\n",
    "class MyDNN(fluid.dygraph.Layer):\n",
    "    def __init__(self):\n",
    "        super(MyDNN,self).__init__()\n",
    "        self.hidden1 = Linear(100,100,act=\"relu\")\n",
    "        self.hidden2 = Linear(100,100,act=\"relu\")\n",
    "        self.hidden3 = Linear(100,100,act=\"relu\")\n",
    "        self.hidden4 = Linear(3*100*100,10,act='softmax')\n",
    "    def forward(self,input):\n",
    "        print(input.shape)    #[32, 3, 100, 100]\n",
    "        x = self.hidden1(input)\n",
    "        print(x.shape)    #[32, 3, 100, 100]\n",
    "        x = self.hidden2(x)\n",
    "        print(x.shape)    #[32, 3, 100, 100]\n",
    "        x = self.hidden3(x)\n",
    "        print(x.shape)    #[32, 3, 100, 100]\n",
    "        x = fluid.layers.reshape(x,shape=[-1,3*100*100])\n",
    "        print(x.shape)   #[32, 30000]\n",
    "        y = self.hidden4(x)\n",
    "        print(y.shape)   # [32, 10]\n",
    "        return y"
   ]
  },
  {
   "cell_type": "code",
   "execution_count": null,
   "metadata": {},
   "outputs": [],
   "source": [
    "#用动态图进行训练\n",
    "with fluid.dygraph.guard():\n",
    "    model=MyDNN() #模型实例化\n",
    "    model.train() #训练模式\n",
    "    opt=fluid.optimizer.SGDOptimizer(learning_rate=0.0072, parameter_list=model.parameters())#优化器选用SGD随机梯度下降，学习率为0.001.\n",
    "\n",
    "    epochs_num=120 #迭代次数\n",
    "\n",
    "\n",
    "    for pass_num in range(epochs_num):\n",
    "        \n",
    "        for batch_id,data in enumerate(train_reader()):\n",
    "            \n",
    "            images=np.array([x[0].reshape(3,100,100) for x in data],np.float32)\n",
    "            \n",
    "            labels = np.array([x[1] for x in data]).astype('int64')\n",
    "            labels = labels[:, np.newaxis]\n",
    "            # print(images.shape)\n",
    "            image=fluid.dygraph.to_variable(images)\n",
    "            label=fluid.dygraph.to_variable(labels)\n",
    "            predict=model(image)#预测\n",
    "            # print(predict)\n",
    "            loss=fluid.layers.cross_entropy(predict,label)\n",
    "            avg_loss=fluid.layers.mean(loss)#获取loss值\n",
    "            \n",
    "            acc=fluid.layers.accuracy(predict,label)#计算精度\n",
    "            \n",
    "            if batch_id!=0 and batch_id%50==0:\n",
    "                print(\"train_pass:{},batch_id:{},train_loss:{},train_acc:{}\".format(pass_num,batch_id,avg_loss.numpy(),acc.numpy()))\n",
    "\n",
    "            avg_loss.backward()\n",
    "            opt.minimize(avg_loss)\n",
    "            model.clear_gradients()\n",
    "            \n",
    "    fluid.save_dygraph(model.state_dict(),'MyDNN')#保存模型\n",
    " "
   ]
  },
  {
   "cell_type": "code",
   "execution_count": 7,
   "metadata": {},
   "outputs": [
    {
     "name": "stdout",
     "output_type": "stream",
     "text": [
      "0.671627\n"
     ]
    }
   ],
   "source": [
    "#模型校验\n",
    "with fluid.dygraph.guard():\n",
    "    accs = []\n",
    "    model_dict, _ = fluid.load_dygraph('MyDNN')\n",
    "    model = MyDNN()\n",
    "    model.load_dict(model_dict) #加载模型参数\n",
    "    model.eval() #校验模式\n",
    "    for batch_id,data in enumerate(test_reader()):#测试集\n",
    "        images=np.array([x[0].reshape(3,100,100) for x in data],np.float32)\n",
    "        labels = np.array([x[1] for x in data]).astype('int64')\n",
    "        labels = labels[:, np.newaxis]\n",
    "\n",
    "        image=fluid.dygraph.to_variable(images)\n",
    "        label=fluid.dygraph.to_variable(labels)\n",
    "        \n",
    "        predict=model(image)       \n",
    "        acc=fluid.layers.accuracy(predict,label)\n",
    "        accs.append(acc.numpy()[0])\n",
    "        avg_acc = np.mean(accs)\n",
    "    print(avg_acc)"
   ]
  },
  {
   "cell_type": "code",
   "execution_count": 8,
   "metadata": {},
   "outputs": [
    {
     "name": "stdout",
     "output_type": "stream",
     "text": [
      "(3, 100, 100)\n",
      "5\n"
     ]
    },
    {
     "data": {
      "image/png": "[encoded data removed]",
      "text/plain": [
       "<PIL.JpegImagePlugin.JpegImageFile image mode=RGB size=100x100 at 0x7FAC0809DA50>"
      ]
     },
     "metadata": {},
     "output_type": "display_data"
    }
   ],
   "source": [
    "#读取预测图像，进行预测\n",
    "\n",
    "def load_image(path):\n",
    "    img = Image.open(path)\n",
    "    img = img.resize((100, 100), Image.ANTIALIAS)\n",
    "    img = np.array(img).astype('float32')\n",
    "    img = img.transpose((2, 0, 1))\n",
    "    img = img/255.0\n",
    "    print(img.shape)\n",
    "    return img\n",
    "\n",
    "#构建预测动态图过程\n",
    "with fluid.dygraph.guard():\n",
    "    infer_path = '手势.JPG'\n",
    "    model=MyDNN()#模型实例化\n",
    "    model_dict,_=fluid.load_dygraph('MyDNN')\n",
    "    model.load_dict(model_dict)#加载模型参数\n",
    "    model.eval()#评估模式\n",
    "    infer_img = load_image(infer_path)\n",
    "    infer_img=np.array(infer_img).astype('float32')\n",
    "    infer_img=infer_img[np.newaxis,:, : ,:]\n",
    "    infer_img = fluid.dygraph.to_variable(infer_img)\n",
    "    result=model(infer_img)\n",
    "    display(Image.open('手势.JPG'))\n",
    "    print(np.argmax(result.numpy()))"
   ]
  },
  {
   "cell_type": "code",
   "execution_count": null,
   "metadata": {},
   "outputs": [],
   "source": [
    "lr = np.logspace(-2.20, -2.09, 8)\n",
    "train_loss_mean=[]\n",
    "test_loss_mean=[]\n",
    "train_acc_mean=[]\n",
    "test_acc_mean=[]\n",
    "learning_rates=[]\n",
    "\n",
    "for learning_rate in lr:\n",
    "    learning_rates.append(learning_rate)\n",
    "    #用动态图进行训练\n",
    "    with fluid.dygraph.guard():\n",
    "        model=MyDNN() #模型实例化\n",
    "        model.train() #训练模式\n",
    "        opt=fluid.optimizer.SGDOptimizer(learning_rate, parameter_list=model.parameters())#优化器选用SGD随机梯度下降，学习率为0.01\n",
    "\n",
    "        epochs_num=120 #迭代次数\n",
    "        \n",
    "        for pass_num in range(epochs_num):\n",
    "            \n",
    "            for batch_id,data in enumerate(train_reader()):\n",
    "                \n",
    "                images=np.array([x[0].reshape(3,100,100) for x in data],np.float32)\n",
    "                \n",
    "                labels = np.array([x[1] for x in data]).astype('int64')\n",
    "                labels = labels[:, np.newaxis]\n",
    "                # print(images.shape)\n",
    "                image=fluid.dygraph.to_variable(images)\n",
    "                label=fluid.dygraph.to_variable(labels)\n",
    "                predict=model(image)#预测\n",
    "                # print(predict)\n",
    "                loss=fluid.layers.cross_entropy(predict,label)\n",
    "                avg_loss=fluid.layers.mean(loss)#获取loss值\n",
    "                \n",
    "                acc=fluid.layers.accuracy(predict,label)#计算精度\n",
    "                \n",
    "                if batch_id!=0 and batch_id%50==0:\n",
    "                    print(\"train_pass:{},batch_id:{},train_loss:{},train_acc:{}\".format(pass_num,batch_id,avg_loss.numpy(),acc.numpy()))\n",
    "                    if(pass_num==epochs_num-1): train_acc_mean.append(acc.numpy()[0])\n",
    "                \n",
    "                avg_loss.backward()\n",
    "                opt.minimize(avg_loss)\n",
    "                model.clear_gradients()\n",
    "                \n",
    "        fluid.save_dygraph(model.state_dict(),'MyDNN')#保存模型\n",
    "\n",
    "    #模型校验\n",
    "    with fluid.dygraph.guard():\n",
    "        accs = []\n",
    "        model_dict, _ = fluid.load_dygraph('MyDNN')\n",
    "        model = MyDNN()\n",
    "        model.load_dict(model_dict) #加载模型参数\n",
    "        model.eval() #训练模式\n",
    "        for batch_id,data in enumerate(test_reader()):#测试集\n",
    "            images=np.array([x[0].reshape(3,100,100) for x in data],np.float32)\n",
    "            labels = np.array([x[1] for x in data]).astype('int64')\n",
    "            labels = labels[:, np.newaxis]\n",
    "\n",
    "            image=fluid.dygraph.to_variable(images)\n",
    "            label=fluid.dygraph.to_variable(labels)\n",
    "            \n",
    "            predict=model(image)       \n",
    "            acc=fluid.layers.accuracy(predict,label)\n",
    "            accs.append(acc.numpy()[0])\n",
    "            avg_acc = np.mean(accs)\n",
    "        print(avg_acc)\n",
    "        test_acc_mean.append(avg_acc)\n",
    "    \n",
    "    #绘图\n",
    "    plt.plot(learning_rates,train_acc_mean,'o-',color=\"r\",label=\"train\")\n",
    "    plt.plot(learning_rates,test_acc_mean,'o-',color=\"g\",label=\"test\")\n",
    "    plt.xlabel(\"learning_rates\")\n",
    "    plt.ylabel(\"acc\")\n",
    "    plt.legend(loc=\"best\")    # 没有这个不会显示折线的label\n",
    "    plt.show()\n",
    "    "
   ]
  },
  {
   "cell_type": "code",
   "execution_count": null,
   "metadata": {},
   "outputs": [],
   "source": [
    "plt.plot(learning_rates,train_acc_mean,'o-',color=\"r\",label=\"train\")\n",
    "plt.plot(learning_rates,test_acc_mean,'o-',color=\"g\",label=\"test\")\n",
    "plt.xlabel(\"learning_rates\")\n",
    "plt.ylabel(\"acc\")\n",
    "plt.legend(loc=\"best\")    # 没有这个不会显示折线的label\n",
    "plt.show()"
   ]
  },
  {
   "cell_type": "markdown",
   "metadata": {},
   "source": [
    "![](https://ai-studio-static-online.cdn.bcebos.com/9e54b782f7fa4d34a3cb7cca6e63a0b5e6e1aa40f00e4745a4baabd395f9faf5)\n",
    "#### 由上图可知训练次数大于120时出现过拟合\n",
    "![](https://ai-studio-static-online.cdn.bcebos.com/511a706467384497a0bf46f3bbad7eea94ac65c7b7ea4c6d822300bdc057e871)\n",
    "#### 由上图可知learning_rate为0.0072"
   ]
  }
 ],
 "metadata": {
  "kernelspec": {
   "display_name": "Python Paddle",
   "language": "python",
   "name": "paddle"
  },
  "language_info": {
   "codemirror_mode": {
    "name": "ipython",
    "version": 3
   },
   "file_extension": ".py",
   "mimetype": "text/x-python",
   "name": "python",
   "nbconvert_exporter": "python",
   "pygments_lexer": "ipython3",
   "version": "3.7.3"
  }
 },
 "nbformat": 4,
 "nbformat_minor": 1
}
