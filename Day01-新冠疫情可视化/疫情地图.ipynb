{
 "cells": [
  {
   "cell_type": "code",
   "execution_count": 1,
   "metadata": {},
   "outputs": [],
   "source": [
    "import json\n",
    "import datetime\n",
    "from pyecharts.charts import Map\n",
    "from pyecharts import options as opts"
   ]
  },
  {
   "cell_type": "code",
   "execution_count": 2,
   "metadata": {},
   "outputs": [
    {
     "name": "stdout",
     "output_type": "stream",
     "text": [
      "[('湖北', 67801), ('广东', 1490), ('河南', 1276), ('浙江', 1257), ('湖南', 1018), ('安徽', 990), ('江西', 937), ('山东', 774), ('香港', 682), ('江苏', 646), ('北京', 580), ('重庆', 579), ('四川', 550), ('上海', 509), ('黑龙江', 484), ('福建', 343), ('河北', 321), ('台湾', 306), ('广西', 254), ('陕西', 253), ('云南', 181), ('天津', 174), ('海南', 168), ('贵州', 147), ('辽宁', 139), ('甘肃', 138), ('山西', 136), ('内蒙古', 107), ('吉林', 98), ('新疆', 76), ('宁夏', 75), ('澳门', 39), ('青海', 18), ('西藏', 1)]\n"
     ]
    },
    {
     "data": {
      "text/plain": [
       "'C:\\\\Users\\\\Hao\\\\PycharmProjects\\\\Paddle\\\\data\\\\全国实时确诊数据.html'"
      ]
     },
     "execution_count": 2,
     "metadata": {},
     "output_type": "execute_result"
    }
   ],
   "source": [
    "# 读原始数据文件\n",
    "today = datetime.date.today().strftime('%Y%m%d')   #20200315\n",
    "datafile = 'data/'+ today + '.json'\n",
    "with open(datafile, 'r', encoding='UTF-8') as file:\n",
    "    json_array = json.loads(file.read())\n",
    "\n",
    "# 分析全国实时确诊数据：'confirmedCount'字段\n",
    "china_data = []\n",
    "for province in json_array:\n",
    "    china_data.append((province['provinceShortName'], province['confirmedCount']))\n",
    "china_data = sorted(china_data, key=lambda x: x[1], reverse=True)                 #reverse=True,表示降序，反之升序\n",
    "\n",
    "print(china_data)\n",
    "# 全国疫情地图\n",
    "# 自定义的每一段的范围，以及每一段的特别的样式。\n",
    "pieces = [\n",
    "    {'min': 10000, 'color': '#540d0d'},\n",
    "    {'max': 9999, 'min': 1000, 'color': '#9c1414'},\n",
    "    {'max': 999, 'min': 500, 'color': '#d92727'},\n",
    "    {'max': 499, 'min': 100, 'color': '#ed3232'},\n",
    "    {'max': 99, 'min': 10, 'color': '#f27777'},\n",
    "    {'max': 9, 'min': 1, 'color': '#f7adad'},\n",
    "    {'max': 0, 'color': '#f7e4e4'},\n",
    "]\n",
    "labels = [data[0] for data in china_data]\n",
    "counts = [data[1] for data in china_data]\n",
    "\n",
    "m = Map()\n",
    "m.add(\"累计确诊\", [list(z) for z in zip(labels, counts)], 'china')\n",
    "\n",
    "#系列配置项,可配置图元样式、文字样式、标签样式、点线样式等\n",
    "m.set_series_opts(label_opts=opts.LabelOpts(font_size=12),\n",
    "                  is_show=False)\n",
    "#全局配置项,可配置标题、动画、坐标轴、图例等\n",
    "m.set_global_opts(title_opts=opts.TitleOpts(title='全国实时确诊数据',\n",
    "                                            subtitle='数据来源：丁香园'),\n",
    "                  legend_opts=opts.LegendOpts(is_show=False),\n",
    "                  visualmap_opts=opts.VisualMapOpts(pieces=pieces,\n",
    "                                                    is_piecewise=True,   #是否为分段型\n",
    "                                                    is_show=True))       #是否显示视觉映射配置\n",
    "#render（）会生成本地 HTML 文件，默认会在当前目录生成 render.html 文件，也可以传入路径参数，如 m.render(\"mycharts.html\")\n",
    "m.render(path='./data/全国实时确诊数据.html')"
   ]
  },
  {
   "cell_type": "code",
   "execution_count": 4,
   "metadata": {},
   "outputs": [
    {
     "name": "stdout",
     "output_type": "stream",
     "text": [
      "[('武汉市', 50006), ('孝感市', 3518), ('黄冈市', 2907), ('荆州市', 1580), ('鄂州市', 1394), ('随州市', 1307), ('襄阳市', 1175), ('黄石市', 1015), ('宜昌市', 931), ('荆门市', 928), ('咸宁市', 836), ('十堰市', 672), ('仙桃市', 575), ('天门市', 496), ('恩施土家族苗族自治州', 252), ('潜江市', 198), ('神农架林区', 11)]\n"
     ]
    },
    {
     "data": {
      "text/plain": [
       "'C:\\\\Users\\\\Hao\\\\PycharmProjects\\\\Paddle\\\\data\\\\湖北省实时确诊数据.html'"
      ]
     },
     "execution_count": 4,
     "metadata": {},
     "output_type": "execute_result"
    }
   ],
   "source": [
    "# 读原始数据文件\n",
    "today = datetime.date.today().strftime('%Y%m%d')   #20200315\n",
    "datafile = 'data/'+ today + '.json'\n",
    "with open(datafile, 'r', encoding='UTF-8') as file:\n",
    "    json_array = json.loads(file.read())\n",
    "\n",
    "# 分析湖北省实时确诊数据\n",
    "# 读入规范化的城市名称，用于规范化丁香园数据中的城市简称\n",
    "with open('./data/data24815/pycharts_city.txt', 'r', encoding='UTF-8') as f:\n",
    "    defined_cities = [line.strip() for line in f.readlines()]\n",
    "\n",
    "\n",
    "def format_city_name(name, defined_cities):\n",
    "    for defined_city in defined_cities:\n",
    "        if len((set(defined_city) & set(name))) == len(name):\n",
    "            name = defined_city\n",
    "            if name.endswith('市') or name.endswith('区') or name.endswith('县') or name.endswith('自治州'):\n",
    "                return name\n",
    "            return name + '市'\n",
    "    return None\n",
    "\n",
    "\n",
    "province_name = '湖北'\n",
    "for province in json_array:\n",
    "    if province['provinceName'] == province_name or province['provinceShortName'] == province_name:\n",
    "        json_array_province = province['cities']\n",
    "        hubei_data = [(format_city_name(city['cityName'], defined_cities), city['confirmedCount']) for city in\n",
    "                      json_array_province]\n",
    "        hubei_data = sorted(hubei_data, key=lambda x: x[1], reverse=True)\n",
    "\n",
    "        print(hubei_data)\n",
    "\n",
    "labels = [data[0] for data in hubei_data]\n",
    "counts = [data[1] for data in hubei_data]\n",
    "pieces = [\n",
    "    {'min': 10000, 'color': '#540d0d'},\n",
    "    {'max': 9999, 'min': 1000, 'color': '#9c1414'},\n",
    "    {'max': 999, 'min': 500, 'color': '#d92727'},\n",
    "    {'max': 499, 'min': 100, 'color': '#ed3232'},\n",
    "    {'max': 99, 'min': 10, 'color': '#f27777'},\n",
    "    {'max': 9, 'min': 1, 'color': '#f7adad'},\n",
    "    {'max': 0, 'color': '#f7e4e4'},\n",
    "]\n",
    "\n",
    "m = Map()\n",
    "m.add(\"累计确诊\", [list(z) for z in zip(labels, counts)], '湖北')\n",
    "m.set_series_opts(label_opts=opts.LabelOpts(font_size=12),\n",
    "                  is_show=False)\n",
    "m.set_global_opts(title_opts=opts.TitleOpts(title='湖北省实时确诊数据',\n",
    "                                            subtitle='数据来源：丁香园'),\n",
    "                  legend_opts=opts.LegendOpts(is_show=False),\n",
    "                  visualmap_opts=opts.VisualMapOpts(pieces=pieces,\n",
    "                                                    is_piecewise=True,\n",
    "                                                    is_show=True))\n",
    "m.render(path='./data/湖北省实时确诊数据.html')"
   ]
  }
 ],
 "metadata": {
  "kernelspec": {
   "display_name": "Python Paddle",
   "language": "python",
   "name": "paddle"
  },
  "language_info": {
   "codemirror_mode": {
    "name": "ipython",
    "version": 3
   },
   "file_extension": ".py",
   "mimetype": "text/x-python",
   "name": "python",
   "nbconvert_exporter": "python",
   "pygments_lexer": "ipython3",
   "version": "3.7.3"
  }
 },
 "nbformat": 4,
 "nbformat_minor": 4
}
