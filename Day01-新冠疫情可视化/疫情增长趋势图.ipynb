{
 "cells": [
  {
   "cell_type": "code",
   "execution_count": 1,
   "metadata": {},
   "outputs": [],
   "source": [
    "import numpy as np\n",
    "import json\n",
    "from pyecharts.charts import Line\n",
    "from pyecharts import options as opts"
   ]
  },
  {
   "cell_type": "code",
   "execution_count": 2,
   "metadata": {
    "scrolled": false
   },
   "outputs": [
    {
     "data": {
      "text/plain": [
       "'C:\\\\Users\\\\Hao\\\\PycharmProjects\\\\Paddle\\\\data\\\\新增确诊趋势图.html'"
      ]
     },
     "execution_count": 2,
     "metadata": {},
     "output_type": "execute_result"
    }
   ],
   "source": [
    "# 读原始数据文件\n",
    "datafile = 'data/statistics_data.json'\n",
    "with open(datafile, 'r', encoding='UTF-8') as file:\n",
    "    json_dict = json.loads(file.read())\n",
    "\n",
    "# 分析各省份2月1日至今的新增确诊数据：'confirmedIncr'\n",
    "statistics__data = {}\n",
    "for province in json_dict:\n",
    "    statistics__data[province] = []\n",
    "    for da in json_dict[province]:\n",
    "        if da['dateId'] >= 20200201:\n",
    "            statistics__data[province].append(da['confirmedIncr'])\n",
    "\n",
    "# 获取日期列表\n",
    "dateId = [str(da['dateId'])[4:6] + '-' + str(da['dateId'])[6:8] for da in json_dict['湖北'] if\n",
    "          da['dateId'] >= 20200201]\n",
    "# 全国新增趋势\n",
    "all_statis = np.array([0] * len(dateId))\n",
    "for province in statistics__data:\n",
    "    all_statis = all_statis + np.array(statistics__data[province])\n",
    "    all_statis = all_statis.tolist()\n",
    "# 湖北新增趋势\n",
    "hubei_statis = statistics__data['湖北']\n",
    "# 湖北以外的新增趋势\n",
    "other_statis = [all_statis[i] - hubei_statis[i] for i in range(len(dateId))]\n",
    "\n",
    "line = Line()\n",
    "line.add_xaxis(dateId)\n",
    "line.add_yaxis(\"全国新增确诊病例\",   #图例\n",
    "                all_statis,       #数据\n",
    "                is_smooth=True,   #是否平滑曲线\n",
    "               linestyle_opts=opts.LineStyleOpts(width=4, color='#B44038'),#线样式配置项\n",
    "               itemstyle_opts=opts.ItemStyleOpts(color='#B44038',          #图元样式配置项\n",
    "                                                 border_color=\"#B44038\",   #颜色\n",
    "                                                 border_width=10))         #图元的大小\n",
    "line.add_yaxis(\"湖北新增确诊病例\", hubei_statis, is_smooth=True,\n",
    "               linestyle_opts=opts.LineStyleOpts(width=2, color='#4E87ED'),\n",
    "               label_opts=opts.LabelOpts(position='bottom'),              #标签在折线的底部\n",
    "               itemstyle_opts=opts.ItemStyleOpts(color='#4E87ED',\n",
    "                                                 border_color=\"#4E87ED\",\n",
    "                                                 border_width=3))\n",
    "line.add_yaxis(\"其他省份新增病例\", other_statis, is_smooth=True,\n",
    "               linestyle_opts=opts.LineStyleOpts(width=2, color='#F1A846'),\n",
    "               label_opts=opts.LabelOpts(position='bottom'),              #标签在折线的底部\n",
    "               itemstyle_opts=opts.ItemStyleOpts(color='#F1A846',\n",
    "                                                 border_color=\"#F1A846\",\n",
    "                                                 border_width=3))\n",
    "line.set_global_opts(title_opts=opts.TitleOpts(title=\"新增确诊病例\", subtitle='数据来源：丁香园'),\n",
    "                     yaxis_opts=opts.AxisOpts(max_=16000, min_=1, type_=\"log\",    #坐标轴配置项\n",
    "                                              splitline_opts=opts.SplitLineOpts(is_show=True),#分割线配置项\n",
    "                                              axisline_opts=opts.AxisLineOpts(is_show=True)))#坐标轴刻度线配置项\n",
    "line.render(path='./data/新增确诊趋势图.html')"
   ]
  },
  {
   "cell_type": "code",
   "execution_count": null,
   "metadata": {},
   "outputs": [],
   "source": []
  }
 ],
 "metadata": {
  "kernelspec": {
   "display_name": "Python Paddle",
   "language": "python",
   "name": "paddle"
  },
  "language_info": {
   "codemirror_mode": {
    "name": "ipython",
    "version": 3
   },
   "file_extension": ".py",
   "mimetype": "text/x-python",
   "name": "python",
   "nbconvert_exporter": "python",
   "pygments_lexer": "ipython3",
   "version": "3.7.3"
  }
 },
 "nbformat": 4,
 "nbformat_minor": 4
}
